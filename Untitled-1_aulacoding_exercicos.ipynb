{
 "cells": [
  {
   "cell_type": "code",
   "execution_count": 4,
   "metadata": {},
   "outputs": [
    {
     "name": "stdout",
     "output_type": "stream",
     "text": [
      "o resultado da operação é: 48.0\n",
      "O resultado da operação é 115.125\n"
     ]
    }
   ],
   "source": [
    "#Faça um Programa que peça 2 números inteiros e 1 número real. Calcule e mostre:\n",
    "\n",
    "#Solicita numeros inteiros ao usuário:\n",
    "num_int1 = int(input('Digite um numero inteiro'))\n",
    "num_int2 = int(input('Digite outro numero inteiro'))\n",
    "#Solicita numero real ao usuário:\n",
    "num_real = float(input('Digite um numero decimal:'))\n",
    "\n",
    "#O produto do dobro do primeiro com metade do segundo.\n",
    "produto = (num_int1*2) * (num_int2/2)\n",
    "print ('o resultado da operação é:', produto)\n",
    "\n",
    "#A soma do triplo do primeiro com terceiro. o terceiro elevado ao cubo.\n",
    "produto_2 = (num_int1*3)+(num_real**3)\n",
    "print ('O resultado da operação é', produto_2)"
   ]
  },
  {
   "cell_type": "code",
   "execution_count": 6,
   "metadata": {},
   "outputs": [
    {
     "name": "stdout",
     "output_type": "stream",
     "text": [
      "Os números são iguais.\n"
     ]
    }
   ],
   "source": [
    "#Faça um programa que peça dois números e imprima o maior deles.\n",
    "#Solicita dois números ao usuário:\n",
    "numero1 = float(input('Digite um número:'))\n",
    "numero2 = float(input('Digite outro numero:'))\n",
    "#Verifica qual número é maior:\n",
    "if numero1 > numero2:\n",
    "    print('O maior numero é o:', numero1)\n",
    "elif numero2 > numero1:\n",
    "    print('o maior número é o:', numero2)\n",
    "else:\n",
    "    print('Os números são iguais.')"
   ]
  },
  {
   "cell_type": "code",
   "execution_count": 10,
   "metadata": {},
   "outputs": [
    {
     "name": "stdout",
     "output_type": "stream",
     "text": [
      "O valor é 0.\n"
     ]
    }
   ],
   "source": [
    "#faça um programa que peça um valor e mostre na tela se o valor é positivo ou negativo.\n",
    "\n",
    "#Solicita o valor ao usuário:\n",
    "valor = float(input('Digite um valor:'))\n",
    "#Verifica se o valor é positivo, negativo ou igual:\n",
    "if valor > 0:\n",
    "    print('O valor digitado é positivo.')\n",
    "elif valor < 0:\n",
    "    print('O valor digitado é negativo.') \n",
    "else:\n",
    "    print('O valor é igual a 0.')\n"
   ]
  },
  {
   "cell_type": "code",
   "execution_count": 12,
   "metadata": {},
   "outputs": [
    {
     "name": "stdout",
     "output_type": "stream",
     "text": [
      "Parabéns! Você foi aprovado com media. 8.0\n"
     ]
    }
   ],
   "source": [
    "#Faça um programa para a leitura de duas notas parciais de um aluno. O programa deve calcular a média alcançada por aluno e apresentar o resultado \"Aprovado\" ou \"Reprovado\". Considere que a escola adota média 7.00.\n",
    "\n",
    "#Solicita as notas parciais ao usuário:\n",
    "nota1 = float(input('Informe a primeira nota:'))\n",
    "nota2 = float(input('Informe a segunda nota:'))\n",
    "#Calcula a média das notas:\n",
    "media = (nota1 + nota2) / 2 \n",
    "#Verifica se o aluno foi aprovado ou reprovado:\n",
    "if media >= 7.0:\n",
    "    print('Parabéns! Você foi aprovado com media.', media)\n",
    "else:\n",
    "    print('Infelizmente você foi reprovado com media', media)"
   ]
  },
  {
   "cell_type": "code",
   "execution_count": 16,
   "metadata": {},
   "outputs": [
    {
     "name": "stdout",
     "output_type": "stream",
     "text": [
      "O maior número é: 0.0\n"
     ]
    }
   ],
   "source": [
    "#Faça um Programa que leia três números e mostre o maior deles.\n",
    "\n",
    "#Solicita três números ao usuário:\n",
    "numero1 = float(input('Digite o primeiro número:'))\n",
    "numero2 = float(input('Digite o segundo número:'))\n",
    "numero3 = float(input('Digite o terceiro número'))\n",
    "#Verifica qual número é maior:\n",
    "if numero1 >= numero2 and numero1 >= numero3:\n",
    "     maior_numero = numero1\n",
    "elif numero2 >= numero1 and numero2 >= numero3:\n",
    "     maior_numero = numero2 \n",
    "else:\n",
    "     maior_numero = numero3\n",
    "#Imprime o maior número\n",
    "print('O maior número é:', maior_numero)"
   ]
  }
 ],
 "metadata": {
  "kernelspec": {
   "display_name": "Python 3",
   "language": "python",
   "name": "python3"
  },
  "language_info": {
   "codemirror_mode": {
    "name": "ipython",
    "version": 3
   },
   "file_extension": ".py",
   "mimetype": "text/x-python",
   "name": "python",
   "nbconvert_exporter": "python",
   "pygments_lexer": "ipython3",
   "version": "3.12.1"
  }
 },
 "nbformat": 4,
 "nbformat_minor": 2
}
